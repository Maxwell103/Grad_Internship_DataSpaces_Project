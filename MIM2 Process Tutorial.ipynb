{
 "cells": [
  {
   "attachments": {},
   "cell_type": "markdown",
   "metadata": {},
   "source": [
    "<div style=\"background-color:  #663066; padding: 20px;\">\n",
    "   \n",
    "   \n",
    "</div>"
   ]
  },
  {
   "attachments": {},
   "cell_type": "markdown",
   "metadata": {},
   "source": [
    "<div style=\"display: flex; align-items: center; justify-content: space-between;\">\n",
    "    <div>\n",
    "        <h1><strong>MIM 2 Data Spaces Graduation Project</strong></h1>\n",
    "        <h4>by Maxwell Ernst - 18/06/2024</h4>\n",
    "    </div>\n",
    "    <div>\n",
    "        <img src=\"fontyslogo.png\" alt=\"Fontys Logo\" style=\"height: 80px; margin-left: 20px;\">\n",
    "\n",
    "    \n",
    "</div>"
   ]
  },
  {
   "attachments": {},
   "cell_type": "markdown",
   "metadata": {},
   "source": [
    "## **MIM2 Process Tutorial**"
   ]
  },
  {
   "attachments": {},
   "cell_type": "markdown",
   "metadata": {},
   "source": [
    "\n",
    "This Jupyter Notebook serves as a tutorial for creating a Minimum Interoperable Mechanism - MIM2 (data models and sharing) for data spaces, using mock data that resembles real-world sensor data. The steps outlined here are designed to be generalizable and can be adapted for various data sources and MIM2 development purposes."
   ]
  },
  {
   "attachments": {},
   "cell_type": "markdown",
   "metadata": {},
   "source": [
    "# 1) General Steps for creating a MIM\n",
    "\n",
    "General process for creating a MIM can be outlined in the following steps:\n",
    "\n",
    "1) Read the Data Spaces Summary Document to gain a good understanding of Data Spaces.\n",
    "2) Determine the domain you are working in - Mobility, Smart and Sustainable Cities, and Communities.\n",
    "3) Define the requirements for what needs to be developed to identify which MIM to create, as outlined in the building blocks - Figure 1: Building Blocks taxonomy recommended by OpenDEI and adapted by the DSBA Technical.\n",
    "4) Search for available standards for that MIM from technical and governance standpoints.\n",
    "5) Develop the necessary MIM(s)."
   ]
  },
  {
   "attachments": {},
   "cell_type": "markdown",
   "metadata": {},
   "source": [
    "![Alt text](MIMsOverview.png)\n",
    "\n",
    "Figure 1: Building Blocks taxonomy recommended by OpenDEI and adapted by the DSBA Technical."
   ]
  },
  {
   "attachments": {},
   "cell_type": "markdown",
   "metadata": {},
   "source": [
    "# 2) Steps for creating MIM2"
   ]
  },
  {
   "attachments": {},
   "cell_type": "markdown",
   "metadata": {},
   "source": [
    "## 2.1) What is MIM2?"
   ]
  },
  {
   "attachments": {},
   "cell_type": "markdown",
   "metadata": {},
   "source": [
    "\n",
    "MIM2, or \"Shared Data Models,\" ensures that data sets use the same definitions for key terms, which is crucial for accurate data linking. For instance, if one dataset defines \"children\" as ages 5-15 and another defines them as ages 2-12, merging these datasets would create inaccuracies.\n",
    "\n",
    "Data models are machine-readable definitions of terms, which allow APIs to understand and handle them properly. Consistent data models enable applications to link relevant contextual data with datasets."
   ]
  },
  {
   "attachments": {},
   "cell_type": "markdown",
   "metadata": {},
   "source": [
    "## 2.2) Why are shared data-models important?"
   ]
  },
  {
   "attachments": {},
   "cell_type": "markdown",
   "metadata": {},
   "source": [
    "A common set of data models creates a shared language, allowing systems to communicate effectively. Well-defined data models help cities to integrate and open up data across different solutions and support various applications. Harmonized data models can be reused, facilitating data sharing and learning among cities."
   ]
  },
  {
   "attachments": {},
   "cell_type": "markdown",
   "metadata": {},
   "source": [
    "## 2.3) EU Policy Context"
   ]
  },
  {
   "attachments": {},
   "cell_type": "markdown",
   "metadata": {},
   "source": [
    "\n",
    "Sharing data between different agencies within a city or between cities requires a common way of defining entities. For example, consistent definitions for terms like \"bus\" or \"taxi\" are essential. Without common data models, each agency would need to create their own, making data sharing difficult and inefficient.\n",
    "\n",
    "Common data models support benchmarking and shared learning, reducing the effort required to define data sets."
   ]
  },
  {
   "attachments": {},
   "cell_type": "markdown",
   "metadata": {},
   "source": [
    "## 2.4) Requirements for Compliance"
   ]
  },
  {
   "attachments": {},
   "cell_type": "markdown",
   "metadata": {},
   "source": [
    "Entities described by data in the ecosystem should use consistent data models based on:\n",
    "\n",
    "- Resource Description Framework (RDF)\n",
    "- Resource Description Framework Schema (RDFS)\n",
    "- Web Ontology Language (OWL)\n",
    "\n",
    "For spatial and spatio-temporal data, consider the provisions of MIM-7 (Places) regarding data encoding."
   ]
  },
  {
   "attachments": {},
   "cell_type": "markdown",
   "metadata": {},
   "source": [
    "## 2.5) Recommended Specifications"
   ]
  },
  {
   "attachments": {},
   "cell_type": "markdown",
   "metadata": {},
   "source": [
    "Using NGSI-LD compliant data models is the preferred option for smart city aspects. These data models have been defined by organizations and projects, including OASC, FIWARE, GSMA, and the SynchroniCity project. There is ongoing collaboration between OASC, TM Forum, and FIWARE to specify more models through the Smart Data Models initiative: Smart Data Models.\n",
    "\n",
    "Alternatively, existing data models and ontologies can be adapted for use with NGSI-LD by identifying entities, properties, and relationships that can be managed by the NGSI-LD API. Some examples include:\n",
    "\n",
    "- oneM2M base ontology (compatible with SAREF), which provides semantic descriptions of data through metadata\n",
    "- SAREF: Smart Appliances REFerence ontology, with SAREF4Cities focused on smart cities\n",
    "- Core vocabularies of ISA, such as the Core Public Service Vocabulary Application Profile, used for the Single Digital Gateway Regulation\n",
    "- Digital Twin Definition Language (DTDL) developed by Microsoft, based on json-ld, with existing Fiware data models converted to this format"
   ]
  },
  {
   "attachments": {},
   "cell_type": "markdown",
   "metadata": {},
   "source": [
    "## 2.6) Relevant European References and Specifications\n",
    "\n",
    "As part of ongoing work related to MIM2, support for the Smart Data Models Initiative aims to:\n",
    "\n",
    "- Develop guidelines and a catalogue of minimum common data models in different sectors for interoperability\n",
    "- Create harmonized representation formats and semantics for applications to consume and publish data\n",
    "- Develop data models for interoperable and replicable smart solutions across sectors, starting with smart cities and extending to smart agri-food, smart utilities, smart industry, etc.\n",
    "- Establish a methodology to translate between credible initiatives developing data models\n",
    "- Provide guidelines on developing consistent data models\n",
    "- Expand the catalogue of data models agreed upon by OASC cities as common models for use"
   ]
  },
  {
   "attachments": {},
   "cell_type": "markdown",
   "metadata": {},
   "source": [
    "# 3) MIM2 Example using mock data"
   ]
  },
  {
   "attachments": {},
   "cell_type": "markdown",
   "metadata": {},
   "source": [
    "## 3.1) Prerequisites"
   ]
  },
  {
   "attachments": {},
   "cell_type": "markdown",
   "metadata": {},
   "source": [
    "Before following this tutorial, ensure you have the following:\n",
    "\n",
    "- Python 3.x: Download and install Python from https://www.python.org/downloads/.\n",
    "- Jupyter Notebook: Install Jupyter Notebook using pip install jupyter in your terminal.\n",
    "- Pandas library: Install Pandas using pip install pandas in your terminal.\n",
    "- Familiarity with MIM concepts: Basic understanding of MIMs and data spaces is recommended."
   ]
  },
  {
   "attachments": {},
   "cell_type": "markdown",
   "metadata": {},
   "source": [
    "## 3.2) Data Source\n",
    "\n",
    "This tutorial utilizes mock data that simulates real-world sensor data. You can replace this with your actual data source during implementation. The mock data will have a similar structure to sensor readings, including:\n",
    "\n",
    "- timestamp: The time the data was collected.\n",
    "- sensor_id: Unique identifier for the sensor.\n",
    "- temperature: The recorded temperature value.\n",
    "- humidity: The recorded humidity value."
   ]
  },
  {
   "attachments": {},
   "cell_type": "markdown",
   "metadata": {},
   "source": [
    "## 3.4) ETL Process\n",
    "\n",
    "- Extract: In a real scenario, you'd extract data from its source (databases, APIs, etc.). Here, we'll create some mock data to demonstrate the process."
   ]
  },
  {
   "cell_type": "code",
   "execution_count": 1,
   "metadata": {},
   "outputs": [
    {
     "name": "stdout",
     "output_type": "stream",
     "text": [
      "            timestamp sensor_id  temperature  humidity\n",
      "0 2024-05-30 10:00:00  sensor_1         22.5        55\n",
      "1 2024-05-30 11:00:00  sensor_2         23.2        60\n",
      "2 2024-05-30 12:00:00  sensor_1         21.8        52\n"
     ]
    }
   ],
   "source": [
    "import pandas as pd\n",
    "\n",
    "# Create mock data\n",
    "data = {\n",
    "    \"timestamp\": pd.to_datetime([\"2024-05-30 10:00:00\", \"2024-05-30 11:00:00\", \"2024-05-30 12:00:00\"]),\n",
    "    \"sensor_id\": [\"sensor_1\", \"sensor_2\", \"sensor_1\"],\n",
    "    \"temperature\": [22.5, 23.2, 21.8],\n",
    "    \"humidity\": [55, 60, 52]\n",
    "}\n",
    "\n",
    "# Create a Pandas DataFrame from the dictionary\n",
    "df = pd.DataFrame(data)\n",
    "\n",
    "# Display the first few rows of the data\n",
    "print(df.head())\n"
   ]
  },
  {
   "attachments": {},
   "cell_type": "markdown",
   "metadata": {},
   "source": [
    "\n",
    "\n",
    "- Transform: This stage involves cleaning, formatting, and manipulating the data to conform to the chosen data model structure. In this example, the data is already relatively clean. However, you might need to handle missing values, convert data types, or create new features depending on your specific data source.\n",
    "\n",
    "- Load: The transformed data is loaded into a suitable format for further processing. In MIM2 creation, this might involve storing the data in a format compatible with your data space platform."
   ]
  },
  {
   "attachments": {},
   "cell_type": "markdown",
   "metadata": {},
   "source": [
    "## 3.6) Data Model Selection\n",
    "\n",
    "- Choose a standardized data model for representing your data within the MIM2. This tutorial uses Smart Data Models by FIWARE as an example. Select the most appropriate model(s) that aligns with your data content and adheres to MIM2 specifications."
   ]
  },
  {
   "attachments": {},
   "cell_type": "markdown",
   "metadata": {},
   "source": [
    "## 3.7) Data Mapping\n",
    "\n",
    "- Map the transformed data elements to the corresponding entities and attributes defined in the chosen data model. Here's an example mapping for our mock data:"
   ]
  },
  {
   "cell_type": "code",
   "execution_count": 2,
   "metadata": {},
   "outputs": [
    {
     "name": "stdout",
     "output_type": "stream",
     "text": [
      "           observedAt  deviceID  temperatureValue  humidityValue\n",
      "0 2024-05-30 10:00:00  sensor_1              22.5             55\n",
      "1 2024-05-30 11:00:00  sensor_2              23.2             60\n",
      "2 2024-05-30 12:00:00  sensor_1              21.8             52\n"
     ]
    }
   ],
   "source": [
    "# Map data elements to Smart Data Model attributes\n",
    "mapped_data = df.rename(columns={\n",
    "    \"timestamp\": \"observedAt\",\n",
    "    \"sensor_id\": \"deviceID\",\n",
    "    \"temperature\": \"temperatureValue\",\n",
    "    \"humidity\": \"humidityValue\"\n",
    "})\n",
    "\n",
    "# Display the mapped data\n",
    "print(mapped_data)\n"
   ]
  },
  {
   "attachments": {},
   "cell_type": "markdown",
   "metadata": {},
   "source": [
    "## 3.8) JSON Schema and Input"
   ]
  },
  {
   "attachments": {},
   "cell_type": "markdown",
   "metadata": {},
   "source": [
    "## 3.9) JSON Validation Test"
   ]
  },
  {
   "cell_type": "code",
   "execution_count": null,
   "metadata": {},
   "outputs": [],
   "source": []
  },
  {
   "attachments": {},
   "cell_type": "markdown",
   "metadata": {},
   "source": [
    "### Additional Notes:\n",
    "\n",
    "- This tutorial provides a foundational framework. Depending on the complexity of your MIM2 and data source, additional steps or considerations might be necessary.\n",
    "- Explore resources and documentation provided by FIWARE for in-depth guidance on using Smart Data Models and MIM2 development best practices.\n",
    "Next Steps:\n",
    "\n",
    "This tutorial has provided a basic understanding of the MIM2 creation process. Feel free to modify and adapt these steps to your specific data source and MIM2 development goals. Remember to consult relevant FIWARE documentation for further technical details and best practices."
   ]
  },
  {
   "cell_type": "markdown",
   "metadata": {},
   "source": []
  },
  {
   "attachments": {},
   "cell_type": "markdown",
   "metadata": {},
   "source": [
    "# Bibliography/Sources"
   ]
  },
  {
   "cell_type": "markdown",
   "metadata": {},
   "source": []
  }
 ],
 "metadata": {
  "kernelspec": {
   "display_name": "Python 3",
   "language": "python",
   "name": "python3"
  },
  "language_info": {
   "codemirror_mode": {
    "name": "ipython",
    "version": 3
   },
   "file_extension": ".py",
   "mimetype": "text/x-python",
   "name": "python",
   "nbconvert_exporter": "python",
   "pygments_lexer": "ipython3",
   "version": "3.9.13"
  },
  "orig_nbformat": 4,
  "vscode": {
   "interpreter": {
    "hash": "def90640ecba0995ed388cef70a65c425c38760ebd7e0c41ef2cfea34d9268c7"
   }
  }
 },
 "nbformat": 4,
 "nbformat_minor": 2
}
