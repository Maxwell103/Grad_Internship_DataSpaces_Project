{
 "cells": [
  {
   "attachments": {},
   "cell_type": "markdown",
   "metadata": {},
   "source": [
    "<div style=\"background-color:  #663066; padding: 20px;\">\n",
    "   \n",
    "   \n",
    "</div>"
   ]
  },
  {
   "attachments": {},
   "cell_type": "markdown",
   "metadata": {},
   "source": [
    "<div style=\"display: flex; align-items: center; justify-content: space-between;\">\n",
    "    <div>\n",
    "        <h1><strong>MIM2 Creation Tutorial</strong></h1>\n",
    "        <h4>by Maxwell Ernst - 18/06/2024</h4>\n",
    "    </div>\n",
    "    <div>\n",
    "        <img src=\"fontyslogo.png\" alt=\"Fontys Logo\" style=\"height: 80px; margin-left: 20px;\">\n",
    "\n",
    "    \n",
    "</div>"
   ]
  },
  {
   "attachments": {},
   "cell_type": "markdown",
   "metadata": {},
   "source": [
    "MIM2 Creation Tutorial\n",
    "\n",
    "This Jupyter Notebook serves as a tutorial for creating a Minimum Interoperable Mechanism - MIM2 (data models and sharing) for data spaces, using mock data that resembles real-world sensor data. The steps outlined here are designed to be generalizable and can be adapted for various data sources and MIM2 development purposes.\n",
    "\n",
    "\n"
   ]
  },
  {
   "attachments": {},
   "cell_type": "markdown",
   "metadata": {},
   "source": [
    "# Prerequisites"
   ]
  },
  {
   "attachments": {},
   "cell_type": "markdown",
   "metadata": {},
   "source": [
    "Before following this tutorial, ensure you have the following:\n",
    "\n",
    "- Python 3.x: Download and install Python from https://www.python.org/downloads/.\n",
    "- Jupyter Notebook: Install Jupyter Notebook using pip install jupyter in your terminal.\n",
    "- Pandas library: Install Pandas using pip install pandas in your terminal.\n",
    "- Familiarity with MIM concepts: Basic understanding of MIMs and data spaces is recommended."
   ]
  },
  {
   "attachments": {},
   "cell_type": "markdown",
   "metadata": {},
   "source": [
    "# Data Source\n",
    "\n",
    "This tutorial utilizes mock data that simulates real-world sensor data. You can replace this with your actual data source during implementation. The mock data will have a similar structure to sensor readings, including:\n",
    "\n",
    "- timestamp: The time the data was collected.\n",
    "- sensor_id: Unique identifier for the sensor.\n",
    "- temperature: The recorded temperature value.\n",
    "- humidity: The recorded humidity value."
   ]
  },
  {
   "attachments": {},
   "cell_type": "markdown",
   "metadata": {},
   "source": [
    "## Smart Data Models by FIWARE:\n",
    "\n",
    "The tutorial demonstrates using Smart Data Models by FIWARE for building the MIM2 data model. Familiarity with these models or your preferred data modeling approach is beneficial."
   ]
  },
  {
   "attachments": {},
   "cell_type": "markdown",
   "metadata": {},
   "source": [
    "# General Steps (Standardized):\n",
    "\n",
    "## ETL Process:\n",
    "\n",
    "- Extract: In a real scenario, you'd extract data from its source (databases, APIs, etc.). Here, we'll create some mock data to demonstrate the process."
   ]
  },
  {
   "cell_type": "code",
   "execution_count": 1,
   "metadata": {},
   "outputs": [
    {
     "name": "stdout",
     "output_type": "stream",
     "text": [
      "            timestamp sensor_id  temperature  humidity\n",
      "0 2024-05-30 10:00:00  sensor_1         22.5        55\n",
      "1 2024-05-30 11:00:00  sensor_2         23.2        60\n",
      "2 2024-05-30 12:00:00  sensor_1         21.8        52\n"
     ]
    }
   ],
   "source": [
    "import pandas as pd\n",
    "\n",
    "# Create mock data\n",
    "data = {\n",
    "    \"timestamp\": pd.to_datetime([\"2024-05-30 10:00:00\", \"2024-05-30 11:00:00\", \"2024-05-30 12:00:00\"]),\n",
    "    \"sensor_id\": [\"sensor_1\", \"sensor_2\", \"sensor_1\"],\n",
    "    \"temperature\": [22.5, 23.2, 21.8],\n",
    "    \"humidity\": [55, 60, 52]\n",
    "}\n",
    "\n",
    "# Create a Pandas DataFrame from the dictionary\n",
    "df = pd.DataFrame(data)\n",
    "\n",
    "# Display the first few rows of the data\n",
    "print(df.head())\n"
   ]
  },
  {
   "attachments": {},
   "cell_type": "markdown",
   "metadata": {},
   "source": [
    "\n",
    "\n",
    "- Transform: This stage involves cleaning, formatting, and manipulating the data to conform to the chosen data model structure. In this example, the data is already relatively clean. However, you might need to handle missing values, convert data types, or create new features depending on your specific data source.\n",
    "\n",
    "- Load: The transformed data is loaded into a suitable format for further processing. In MIM2 creation, this might involve storing the data in a format compatible with your data space platform."
   ]
  },
  {
   "attachments": {},
   "cell_type": "markdown",
   "metadata": {},
   "source": [
    "## Data Model Selection:\n",
    "\n",
    "- Choose a standardized data model for representing your data within the MIM2. This tutorial uses Smart Data Models by FIWARE as an example. Select the most appropriate model(s) that aligns with your data content and adheres to MIM2 specifications."
   ]
  },
  {
   "attachments": {},
   "cell_type": "markdown",
   "metadata": {},
   "source": [
    "## Data Mapping:\n",
    "\n",
    "- Map the transformed data elements to the corresponding entities and attributes defined in the chosen data model. Here's an example mapping for our mock data:"
   ]
  },
  {
   "cell_type": "code",
   "execution_count": 2,
   "metadata": {},
   "outputs": [
    {
     "name": "stdout",
     "output_type": "stream",
     "text": [
      "           observedAt  deviceID  temperatureValue  humidityValue\n",
      "0 2024-05-30 10:00:00  sensor_1              22.5             55\n",
      "1 2024-05-30 11:00:00  sensor_2              23.2             60\n",
      "2 2024-05-30 12:00:00  sensor_1              21.8             52\n"
     ]
    }
   ],
   "source": [
    "# Map data elements to Smart Data Model attributes\n",
    "mapped_data = df.rename(columns={\n",
    "    \"timestamp\": \"observedAt\",\n",
    "    \"sensor_id\": \"deviceID\",\n",
    "    \"temperature\": \"temperatureValue\",\n",
    "    \"humidity\": \"humidityValue\"\n",
    "})\n",
    "\n",
    "# Display the mapped data\n",
    "print(mapped_data)\n"
   ]
  },
  {
   "cell_type": "markdown",
   "metadata": {},
   "source": []
  },
  {
   "attachments": {},
   "cell_type": "markdown",
   "metadata": {},
   "source": [
    "MIM2 Specification:\n",
    "\n",
    "- Develop the MIM2 specification document outlining the technical details of your MIM, including:\n",
    "\n",
    "    - Data models used\n",
    "    - Data mapping details\n",
    "    - Communication protocols\n",
    "    - Security considerations\n"
   ]
  },
  {
   "attachments": {},
   "cell_type": "markdown",
   "metadata": {},
   "source": [
    "### Additional Notes:\n",
    "\n",
    "- This tutorial provides a foundational framework. Depending on the complexity of your MIM2 and data source, additional steps or considerations might be necessary.\n",
    "- Explore resources and documentation provided by FIWARE for in-depth guidance on using Smart Data Models and MIM2 development best practices.\n",
    "Next Steps:\n",
    "\n",
    "This tutorial has provided a basic understanding of the MIM2 creation process using the Inzicht Verlicht data as an example. Feel free to modify and adapt these steps to your specific data source and MIM2 development goals. Remember to consult relevant FIWARE documentation for further technical details and best practices."
   ]
  },
  {
   "cell_type": "markdown",
   "metadata": {},
   "source": []
  }
 ],
 "metadata": {
  "kernelspec": {
   "display_name": "Python 3",
   "language": "python",
   "name": "python3"
  },
  "language_info": {
   "codemirror_mode": {
    "name": "ipython",
    "version": 3
   },
   "file_extension": ".py",
   "mimetype": "text/x-python",
   "name": "python",
   "nbconvert_exporter": "python",
   "pygments_lexer": "ipython3",
   "version": "3.9.13"
  },
  "orig_nbformat": 4,
  "vscode": {
   "interpreter": {
    "hash": "def90640ecba0995ed388cef70a65c425c38760ebd7e0c41ef2cfea34d9268c7"
   }
  }
 },
 "nbformat": 4,
 "nbformat_minor": 2
}
